{
 "cells": [
  {
   "cell_type": "code",
   "execution_count": 10,
   "id": "25e06271",
   "metadata": {},
   "outputs": [],
   "source": [
    "def empRV(arr1):\n",
    "    '''Accepts 1 input: 1D numpy array\n",
    "    2 outputs: A 2D array where the first column is the unique value, second is probability of that value occurring. \n",
    "    2nd output is the first moment (expected value of the RV). \n",
    "    \n",
    "    Written on 14th February, 2022. \n",
    "    Written by Poorvi H.\n",
    "    '''\n",
    "    \n",
    "    #importing packages\n",
    "    import pandas as pd\n",
    "    import numpy as np\n",
    "    \n",
    "    #sorting unique values\n",
    "    arr2 = np.unique(arr1)\n",
    "    \n",
    "    #empty array to append our values (0 rows so far, 2 columns)\n",
    "    arr3 = np.empty((0,2))\n",
    "    #intitialize variable to calculate expected value\n",
    "    exVal = 0\n",
    "    \n",
    "    #iterate through unique array\n",
    "    for value in arr2:\n",
    "        #number of times observation appears in original input array\n",
    "        Count = np.count_nonzero(arr1 == value)\n",
    "        #probability of event occurring\n",
    "        Prob = Count/(len(arr1))\n",
    "        \n",
    "        #add to expected value\n",
    "        exVal += value*float(Prob) \n",
    "        \n",
    "        #add to new array\n",
    "        arr3 = np.append(arr3, np.array([[value , format(Prob, '.3f')]]), axis=0)\n",
    "            \n",
    "        \n",
    "    return arr3, float(format(exVal, '.3f'))"
   ]
  },
  {
   "cell_type": "markdown",
   "id": "69cefab7",
   "metadata": {},
   "source": [
    "A few examples to ensure this functions works:"
   ]
  },
  {
   "cell_type": "code",
   "execution_count": 11,
   "id": "0631652a",
   "metadata": {},
   "outputs": [],
   "source": [
    "import numpy as np\n",
    "import pandas as pd"
   ]
  },
  {
   "cell_type": "code",
   "execution_count": 12,
   "id": "817f1fcf",
   "metadata": {},
   "outputs": [],
   "source": [
    "test1 = np.array([0, 1, 1, 1, 0, 1, 0, 1, 0, 0])"
   ]
  },
  {
   "cell_type": "code",
   "execution_count": 13,
   "id": "8922dc0b",
   "metadata": {},
   "outputs": [
    {
     "data": {
      "text/plain": [
       "(array([['0', '0.500'],\n",
       "        ['1', '0.500']], dtype='<U32'),\n",
       " 0.5)"
      ]
     },
     "execution_count": 13,
     "metadata": {},
     "output_type": "execute_result"
    }
   ],
   "source": [
    "empRV(test1)"
   ]
  },
  {
   "cell_type": "code",
   "execution_count": null,
   "id": "59fab830",
   "metadata": {},
   "outputs": [],
   "source": []
  }
 ],
 "metadata": {
  "kernelspec": {
   "display_name": "Python 3",
   "language": "python",
   "name": "python3"
  },
  "language_info": {
   "codemirror_mode": {
    "name": "ipython",
    "version": 3
   },
   "file_extension": ".py",
   "mimetype": "text/x-python",
   "name": "python",
   "nbconvert_exporter": "python",
   "pygments_lexer": "ipython3",
   "version": "3.8.8"
  }
 },
 "nbformat": 4,
 "nbformat_minor": 5
}
