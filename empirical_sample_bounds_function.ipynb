{
 "cells": [
  {
   "cell_type": "code",
   "execution_count": 29,
   "id": "703a6ead",
   "metadata": {},
   "outputs": [],
   "source": [
    "def empiricalSampleBounds(data, bound):\n",
    "    '''\n",
    "    Inputs: 1) a dataset/distribution/sample and 2) probability mass bounds that define the center of the distribution (e.g. 95, 99 or 50) – in contrast to the tails.\n",
    "    Output: tuple = (lower bound, upper bound)\n",
    "    \n",
    "    Written on April 8, 2022.\n",
    "    Written by Poorvi H\n",
    "    '''\n",
    "    \n",
    "    import numpy as np\n",
    "    \n",
    "    data.sort()\n",
    "    length = len(data)\n",
    "    perc_1 = int(.01*length)\n",
    "    \n",
    "    #finding probability mass in tails \n",
    "    both_tails_mass = 100-bound\n",
    "    single_tail_mass = both_tails_mass/2\n",
    "    \n",
    "    #finding bound indexes; minus one to account for counting issues\n",
    "    lower_bound_index = int((single_tail_mass*perc_1))-1\n",
    "    upper_bound_index = int((100-single_tail_mass)*perc_1) - 1\n",
    "    \n",
    "    #finding bounds from data\n",
    "    lower_bound = data[lower_bound_index]\n",
    "    upper_bound = data[upper_bound_index]\n",
    "    \n",
    "    #return\n",
    "    return lower_bound, upper_bound"
   ]
  }
 ],
 "metadata": {
  "kernelspec": {
   "display_name": "Python 3",
   "language": "python",
   "name": "python3"
  },
  "language_info": {
   "codemirror_mode": {
    "name": "ipython",
    "version": 3
   },
   "file_extension": ".py",
   "mimetype": "text/x-python",
   "name": "python",
   "nbconvert_exporter": "python",
   "pygments_lexer": "ipython3",
   "version": "3.8.8"
  }
 },
 "nbformat": 4,
 "nbformat_minor": 5
}
