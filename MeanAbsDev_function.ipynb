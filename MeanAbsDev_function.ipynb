{
 "cells": [
  {
   "cell_type": "code",
   "execution_count": 14,
   "id": "7d1ffffc",
   "metadata": {},
   "outputs": [],
   "source": [
    "def MeanAbsDev(arr):\n",
    "    '''\n",
    "    Input: Numpy 1D array\n",
    "    Output: Mean Absolute Deviation of the elements of the array. \n",
    "    Written on Saturday, March 5th.\n",
    "    Written by Poorvi H.\n",
    "    '''\n",
    "    \n",
    "    #import packages\n",
    "    import numpy as np\n",
    "    import statistics as stats\n",
    "    \n",
    "    #get median\n",
    "    med = stats.median(arr)\n",
    "    #initialize empty list to put in deviataions from mean\n",
    "    dev_arr = []\n",
    "    \n",
    "    #iterating through items and taking difference\n",
    "    for item in arr:\n",
    "        #adding to list\n",
    "        dev_arr.append(abs(item-med))\n",
    "        \n",
    "    #taking median again \n",
    "    output = stats.median(dev_arr)\n",
    "    \n",
    "    return output"
   ]
  },
  {
   "cell_type": "markdown",
   "id": "f1016602",
   "metadata": {},
   "source": [
    "Testing on an array:"
   ]
  },
  {
   "cell_type": "code",
   "execution_count": 16,
   "id": "d50027cb",
   "metadata": {},
   "outputs": [],
   "source": [
    "test = np.array([4.5, 3.2, 1.5, 5.7, 9.3, 2.2, 6.9])"
   ]
  },
  {
   "cell_type": "code",
   "execution_count": 17,
   "id": "a00832a6",
   "metadata": {},
   "outputs": [
    {
     "data": {
      "text/plain": [
       "2.3"
      ]
     },
     "execution_count": 17,
     "metadata": {},
     "output_type": "execute_result"
    }
   ],
   "source": [
    "MeanAbsDev(test)"
   ]
  },
  {
   "cell_type": "code",
   "execution_count": null,
   "id": "683c076a",
   "metadata": {},
   "outputs": [],
   "source": []
  }
 ],
 "metadata": {
  "kernelspec": {
   "display_name": "Python 3",
   "language": "python",
   "name": "python3"
  },
  "language_info": {
   "codemirror_mode": {
    "name": "ipython",
    "version": 3
   },
   "file_extension": ".py",
   "mimetype": "text/x-python",
   "name": "python",
   "nbconvert_exporter": "python",
   "pygments_lexer": "ipython3",
   "version": "3.8.8"
  }
 },
 "nbformat": 4,
 "nbformat_minor": 5
}
