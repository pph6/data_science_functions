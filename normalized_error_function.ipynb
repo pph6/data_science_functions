{
 "cells": [
  {
   "cell_type": "code",
   "execution_count": 20,
   "id": "acb11229",
   "metadata": {},
   "outputs": [],
   "source": [
    "def normalized_error(arr, flag):\n",
    "    '''\n",
    "    Yields normalized error. \n",
    "    Inputs: 1) a 2-D numpy array with predictions in the column 1 and measurements in column 2. \n",
    "            2) a flag by which power to normalize the error (single number, integer).\n",
    "    Output: single, scalar number (float). \n",
    "    \n",
    "    Written on 27 March, 2022.\n",
    "    Written by Poorvi H.\n",
    "    '''\n",
    "    #import packages\n",
    "    import numpy as np\n",
    "    \n",
    "    #initialize empty list to hold differences\n",
    "    diff_list = []\n",
    "    \n",
    "    #let's parse through the input array\n",
    "    for i in range(len(arr)):\n",
    "        \n",
    "        #first, find absolute diff between predicted and measured\n",
    "        diff = abs(arr[i, 0] - arr[i, 1])\n",
    "        #to the power of flag\n",
    "        diff = diff**flag\n",
    "        \n",
    "        #append to list\n",
    "        diff_list.append(diff)\n",
    "        \n",
    "    #now, sum\n",
    "    summed = sum(diff_list)\n",
    "    NE = (summed/len(arr))**(1/flag)\n",
    "    formatted_NE = float(format(NE, '.4f'))\n",
    "    \n",
    "    return formatted_NE\n",
    "    "
   ]
  },
  {
   "cell_type": "markdown",
   "id": "253ebc08",
   "metadata": {},
   "source": [
    "Let us test it:"
   ]
  },
  {
   "cell_type": "code",
   "execution_count": 24,
   "id": "e16f3e8b",
   "metadata": {},
   "outputs": [],
   "source": [
    "test1 = np.array([[1,2],[2,4],[3,1],[4,6],[5,2]])\n",
    "test2 = np.array([[0,50],[10,5],[5,10]])"
   ]
  },
  {
   "cell_type": "code",
   "execution_count": 25,
   "id": "6d5abf73",
   "metadata": {},
   "outputs": [
    {
     "data": {
      "text/plain": [
       "2.0"
      ]
     },
     "execution_count": 25,
     "metadata": {},
     "output_type": "execute_result"
    }
   ],
   "source": [
    "normalized_error(test1, 1)"
   ]
  },
  {
   "cell_type": "code",
   "execution_count": 26,
   "id": "8cdf376b",
   "metadata": {},
   "outputs": [
    {
     "data": {
      "text/plain": [
       "2.0976"
      ]
     },
     "execution_count": 26,
     "metadata": {},
     "output_type": "execute_result"
    }
   ],
   "source": [
    "normalized_error(test1, 2)"
   ]
  },
  {
   "cell_type": "code",
   "execution_count": 27,
   "id": "33f85337",
   "metadata": {},
   "outputs": [
    {
     "data": {
      "text/plain": [
       "20.0"
      ]
     },
     "execution_count": 27,
     "metadata": {},
     "output_type": "execute_result"
    }
   ],
   "source": [
    "normalized_error(test2, 1)"
   ]
  },
  {
   "cell_type": "code",
   "execution_count": 28,
   "id": "839856ba",
   "metadata": {},
   "outputs": [
    {
     "data": {
      "text/plain": [
       "34.6912"
      ]
     },
     "execution_count": 28,
     "metadata": {},
     "output_type": "execute_result"
    }
   ],
   "source": [
    "normalized_error(test2, 3)"
   ]
  },
  {
   "cell_type": "code",
   "execution_count": null,
   "id": "5812b2db",
   "metadata": {},
   "outputs": [],
   "source": []
  }
 ],
 "metadata": {
  "kernelspec": {
   "display_name": "Python 3",
   "language": "python",
   "name": "python3"
  },
  "language_info": {
   "codemirror_mode": {
    "name": "ipython",
    "version": 3
   },
   "file_extension": ".py",
   "mimetype": "text/x-python",
   "name": "python",
   "nbconvert_exporter": "python",
   "pygments_lexer": "ipython3",
   "version": "3.8.8"
  }
 },
 "nbformat": 4,
 "nbformat_minor": 5
}
